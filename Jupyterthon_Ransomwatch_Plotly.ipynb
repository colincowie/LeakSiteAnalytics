{
 "cells": [
  {
   "cell_type": "markdown",
   "id": "b689a3c7-780b-42d4-a824-3c0e72196f16",
   "metadata": {},
   "source": [
    "# Data Leak Site Analytics using Ransomwatch & Plotly\n",
    "## Jupyterthon 2024\n",
    "\n",
    "*This notebook downloads data from RansomWatch and leverages Plotly to create dashboards.*\n",
    "\n",
    "#### Notebook Outline\n",
    "1. Download the data \n",
    "2. Preparing the dataframe\n",
    "3. Creating a custom theme\n",
    "4. Scatter Plot\n",
    "5. Density Heatmap\n",
    "6. Bar Graph\n",
    "7. DLS Comparison "
   ]
  },
  {
   "cell_type": "markdown",
   "id": "78830fb2",
   "metadata": {},
   "source": [
    "### Step 1: Download data & create input widget"
   ]
  },
  {
   "cell_type": "code",
   "execution_count": null,
   "id": "8c1f3ad4-8285-43fe-9a37-70253ecf0359",
   "metadata": {
    "tags": []
   },
   "outputs": [],
   "source": [
    "import json, requests, datetime\n",
    "import pandas as pd\n",
    "from ipywidgets import IntText\n",
    "\n",
    "url = 'https://raw.githubusercontent.com/joshhighet/ransomwatch/main/posts.json'\n",
    "\n",
    "# Send a GET request to the URL\n",
    "response = requests.get(url)\n",
    "\n",
    "# Check if the request was successful\n",
    "if response.status_code == 200:\n",
    "    # Save the file to the current working directory\n",
    "    with open('posts.json', 'w') as f:\n",
    "        f.write(response.text)\n",
    "else:\n",
    "    print('Failed to download file:', response.status_code)\n",
    "# Load the JSON file\n",
    "with open('posts.json', 'r') as f:\n",
    "    data = json.load(f)\n",
    "\n",
    "number_input = IntText(value=365, description='Enter the number of past days to filter by:', style={'description_width': 'initial'})\n",
    "\n",
    "display(number_input)"
   ]
  },
  {
   "cell_type": "markdown",
   "id": "8d6623fb",
   "metadata": {
    "tags": []
   },
   "source": [
    "### Step 2: Setup Plotly dataframes"
   ]
  },
  {
   "cell_type": "code",
   "execution_count": null,
   "id": "2e0fc00c-d82e-4b33-b2f3-c9ad3eb76117",
   "metadata": {
    "tags": []
   },
   "outputs": [],
   "source": [
    "import plotly.io as pio\n",
    "import plotly.express as px\n",
    "import plotly.graph_objects as go\n",
    "\n",
    "days_filter = number_input.value\n",
    "\n",
    "# Get the current date\n",
    "now = datetime.datetime.now()\n",
    "# Filter the data to only include posts from the past year\n",
    "filtered_data = [post for post in data if (now - datetime.datetime.fromisoformat(post['discovered'])).days < days_filter]\n",
    "\n",
    "# Extract the group names and timestamps into separate lists\n",
    "group_names = []\n",
    "timestamps = []\n",
    "for post in filtered_data:\n",
    "    group_names.append(post['group_name'])\n",
    "    timestamps.append(post['discovered'])\n",
    "\n",
    "# Convert the lists into a Pandas dataframe\n",
    "df = pd.DataFrame({'group_name': group_names, 'timestamp': timestamps})\n",
    "\n",
    "# Convert the timestamps into a datetime format\n",
    "df['timestamp'] = pd.to_datetime(df['timestamp'])\n",
    "\n",
    "# Group and sort the data by the number of postings in each group\n",
    "df_sorted = df.groupby(['group_name', 'timestamp']).size().reset_index(name='count')\n",
    "df_sorted = df_sorted.sort_values(by='count', ascending=False)\n",
    "\n",
    "fig = px.scatter(df_sorted, x='timestamp', y='group_name', color='group_name', title='Posting Frequency by group', color_continuous_scale='dense')\n",
    "fig.show()"
   ]
  },
  {
   "cell_type": "markdown",
   "id": "a9ae366f-8643-4d2e-a7ba-6403bb9db4db",
   "metadata": {},
   "source": [
    "### Prepare Custom Plotly Theme "
   ]
  },
  {
   "cell_type": "code",
   "execution_count": null,
   "id": "6b0a8be6-c3cf-451d-8ff3-297338adda9a",
   "metadata": {
    "tags": []
   },
   "outputs": [],
   "source": [
    "config = {\n",
    "  'toImageButtonOptions': {\n",
    "    'format': 'jpeg', # one of png, svg, jpeg, webp\n",
    "    'height': 600,\n",
    "    'width': 840,\n",
    "    'scale': 3 # Multiply title/legend/axis/canvas sizes by this factor\n",
    "  }\n",
    "}\n",
    "\n",
    "pio.templates.default = \"plotly_dark\"\n",
    "\n",
    "def apply_custom_theme(fig):\n",
    "    fig.update_layout(font=dict(family='Roboto',size=18))\n",
    "    fig.update_layout(paper_bgcolor=\"#000032\")\n",
    "    fig.update_layout(yaxis_title=None)\n",
    "    fig.update_layout(xaxis_title=None)\n",
    "    fig.show(config=config)\n",
    "print(\"[*] custom theme prepared\")"
   ]
  },
  {
   "cell_type": "markdown",
   "id": "6420c5f4",
   "metadata": {},
   "source": [
    "### Visualization Option 1: Scatter Plot with custom theme "
   ]
  },
  {
   "cell_type": "code",
   "execution_count": null,
   "id": "7866370f",
   "metadata": {
    "tags": []
   },
   "outputs": [],
   "source": [
    "fig2 = px.scatter(df_sorted, x='timestamp', y='group_name', color='group_name', title='Posting Frequency by group', color_continuous_scale='dense')\n",
    "apply_custom_theme(fig2)"
   ]
  },
  {
   "cell_type": "markdown",
   "id": "02757fc7",
   "metadata": {},
   "source": [
    "### Visualization Option 2: Density Heatmap"
   ]
  },
  {
   "cell_type": "code",
   "execution_count": null,
   "id": "f1dfa684-7930-4ed1-8a0f-ceef8b824ce9",
   "metadata": {
    "tags": []
   },
   "outputs": [],
   "source": [
    "# Group and sort the data by the number of postings in each group\n",
    "df_resorted = df.groupby(['group_name', 'timestamp']).size().reset_index(name='count')\n",
    "\n",
    "# Filter the DataFrame to keep only the top 20 most common groups based on the 'count' column\n",
    "top_25_groups = df_resorted.groupby('group_name')['count'].sum().nlargest(25).index\n",
    "df_resorted = df_resorted[df_resorted['group_name'].isin(top_25_groups)]\n",
    "\n",
    "# Create the density heatmap using Plotly Express\n",
    "fig1 = px.density_heatmap(df_resorted, x='timestamp', y='group_name', z='count',\n",
    "                          title='Posting Frequency by Group (Top 25)', color_continuous_scale='Thermal')\n",
    "\n",
    "# Update the layout to show all x values in the heatmap\n",
    "fig1.update_layout(yaxis=dict(tickmode='linear'))\n",
    "\n",
    "apply_custom_theme(fig1)"
   ]
  },
  {
   "cell_type": "markdown",
   "id": "e90eca82",
   "metadata": {},
   "source": [
    "### Visualization Option 3: Bar Graph"
   ]
  },
  {
   "cell_type": "code",
   "execution_count": null,
   "id": "5a6b1dc4",
   "metadata": {
    "scrolled": true,
    "tags": []
   },
   "outputs": [],
   "source": [
    "df_sorted = df.groupby('group_name').size().reset_index(name='count').sort_values(by='count', ascending=True)\n",
    "\n",
    "# Filter the DataFrame to keep only the top 20 most common groups based on the 'count' column\n",
    "top_25_groups = df_sorted.groupby('group_name')['count'].sum().nlargest(25).index\n",
    "df_sorted = df_sorted[df_sorted['group_name'].isin(top_25_groups)]\n",
    "\n",
    "fig4 = px.bar(df_sorted, x='group_name', y='count', color='count', title='Top 25 Data Leak Sites', color_continuous_scale='Reds')\n",
    "\n",
    "fig4.update_xaxes(tickvals=df_sorted['group_name'])\n",
    "\n",
    "apply_custom_theme(fig4)"
   ]
  },
  {
   "cell_type": "markdown",
   "id": "60666582",
   "metadata": {},
   "source": [
    "## Comparing Multiple Sites (Posting by Month)"
   ]
  },
  {
   "cell_type": "code",
   "execution_count": null,
   "id": "bfbbbc9f-2267-4bb0-aef7-7e7fb460bcaa",
   "metadata": {},
   "outputs": [],
   "source": [
    "from ipywidgets import Textarea\n",
    "\n",
    "text_area_1 = Textarea(\n",
    "    value='',  # Default value\n",
    "    placeholder='Enter ransomware group names, separated by new lines.',  # Placeholder text\n",
    "    description='Groups:',  # Label for the widget\n",
    "    disabled=False,  # Enable/disable the widget\n",
    "    layout={'width': '400px', 'height': '100px'}  # Set the size of the Textarea\n",
    ")\n",
    "\n",
    "display(text_area_1)"
   ]
  },
  {
   "cell_type": "code",
   "execution_count": null,
   "id": "06c1a791-9dc5-41ce-8908-9fd193b3f630",
   "metadata": {},
   "outputs": [],
   "source": [
    "import pandas as pd\n",
    "import plotly.express as px\n",
    "\n",
    "# Assuming text_area_1.value contains the group names separated by new lines\n",
    "group_names_input = text_area_1.value.split('\\n')  # Split input by new lines\n",
    "group_names_input = [name.strip() for name in group_names_input if name.strip()]  # Clean up whitespace\n",
    "\n",
    "cutoff_date = now - datetime.timedelta(days=days_filter)\n",
    "\n",
    "# Filter the dataset for the specified ransomware groups and within the days filter\n",
    "filtered_data = [post for post in data if post['group_name'] in group_names_input and datetime.datetime.fromisoformat(post['discovered']) > cutoff_date]\n",
    "\n",
    "# Convert the filtered data into a Pandas dataframe\n",
    "df = pd.DataFrame(filtered_data)\n",
    "\n",
    "# Ensure the dataframe is not empty and has the expected column\n",
    "if not df.empty and 'discovered' in df.columns and 'group_name' in df.columns:\n",
    "    # Convert the 'discovered' column to datetime format for time series analysis\n",
    "    df['discovered'] = pd.to_datetime(df['discovered'])\n",
    "\n",
    "    # Setting the 'discovered' column as the index for resampling\n",
    "    df.set_index('discovered', inplace=True)\n",
    "\n",
    "    if len(df['group_name'].unique()) > 1:\n",
    "        # For multiple groups, group by 'group_name' before resampling\n",
    "        df_resampled = df.groupby('group_name').resample('M').size()\n",
    "        df_resampled = df_resampled.reset_index(name='event_count')\n",
    "    else:\n",
    "        # For a single group, just resample and count, then adjust DataFrame structure\n",
    "        df_resampled = df.resample('M').size().reset_index(name='event_count')\n",
    "        # Manually add the group name if only one group is present\n",
    "        single_group_name = df['group_name'].iloc[0]\n",
    "        df_resampled['group_name'] = single_group_name\n",
    "\n",
    "    # Ensure 'month' column is correctly named for both cases\n",
    "    df_resampled.rename(columns={'discovered': 'month'}, inplace=True)\n",
    "\n",
    "    # Plotting\n",
    "    fig = px.bar(df_resampled, x='month', y='event_count', color='group_name', \n",
    "                 title='Monthly Data Leak Site Postings by Ransomware Group',\n",
    "                 labels={'event_count': 'Number of Posts', 'month': 'Month'},\n",
    "                 barmode='group')\n",
    "\n",
    "    # Update layout for better x-axis date formatting\n",
    "    fig.update_layout(xaxis=dict(tickformat='%Y-%m', dtick=\"M1\"),\n",
    "                      xaxis_title='Month',\n",
    "                      yaxis_title='Number of Posts')\n",
    "\n",
    "    apply_custom_theme(fig)\n",
    "else:\n",
    "    print(\"No data available for the specified ransomware groups or incorrect data structure.\")\n"
   ]
  },
  {
   "cell_type": "markdown",
   "id": "9274dc73",
   "metadata": {},
   "source": [
    "## Comparing Multiple Sites (Posting by Week)"
   ]
  },
  {
   "cell_type": "code",
   "execution_count": null,
   "id": "0c67aa19",
   "metadata": {},
   "outputs": [],
   "source": [
    "import pandas as pd\n",
    "import plotly.express as px\n",
    "\n",
    "# Assuming text_area_1.value contains the group names separated by new lines\n",
    "group_names_input = text_area_1.value.split('\\n')  # Split input by new lines\n",
    "group_names_input = [name.strip() for name in group_names_input if name.strip()]  # Clean up whitespace\n",
    "\n",
    "cutoff_date = now - datetime.timedelta(days=days_filter)\n",
    "\n",
    "# Filter the dataset for the specified ransomware groups and within the days filter\n",
    "filtered_data = [post for post in data if post['group_name'] in group_names_input and datetime.datetime.fromisoformat(post['discovered']) > cutoff_date]\n",
    "\n",
    "# Convert the filtered data into a Pandas dataframe\n",
    "df = pd.DataFrame(filtered_data)\n",
    "\n",
    "# Ensure the dataframe is not empty and has the expected column\n",
    "if not df.empty and 'discovered' in df.columns and 'group_name' in df.columns:\n",
    "    # Convert the 'discovered' column to datetime format for time series analysis\n",
    "    df['discovered'] = pd.to_datetime(df['discovered'])\n",
    "    \n",
    "    # Setting the 'discovered' column as the index for resampling\n",
    "    df.set_index('discovered', inplace=True)\n",
    "\n",
    "    # Determine if there are multiple groups or a single group\n",
    "    if len(df['group_name'].unique()) > 1:\n",
    "        # Multiple groups: Group by 'group_name', then resample by week, and count events\n",
    "        df_resampled = df.groupby('group_name').resample('W').size().reset_index(name='event_count')\n",
    "    else:\n",
    "        # Single group: Simply resample by week and count events\n",
    "        df_resampled = df.resample('W').size().reset_index(name='event_count')\n",
    "        # Add the group name column back if only one group is present\n",
    "        df_resampled['group_name'] = df['group_name'].iloc[0]\n",
    "\n",
    "    # Resetting index to make 'discovered' a column again for plotting\n",
    "    df_resampled.rename(columns={'discovered': 'week'}, inplace=True)\n",
    "\n",
    "    # Plotting\n",
    "    fig = px.bar(df_resampled, x='week', y='event_count', color='group_name', \n",
    "                 title='Weekly Data Leak Site Postings by Ransomware Group',\n",
    "                 labels={'event_count': 'Number of Posts', 'week': 'Week'},\n",
    "                 barmode='group')\n",
    "\n",
    "    fig.update_layout(\n",
    "        xaxis=dict(\n",
    "            tickformat='%Y-%m-%d',  # Keep the date format\n",
    "            tickmode='auto',  # Let Plotly decide the best tick mode\n",
    "            # Alternatively, you can specify 'tickvals' with a list of specific dates you want to mark as ticks.\n",
    "        ),\n",
    "        xaxis_title='Week Starting',\n",
    "        yaxis_title='Number of Posts'\n",
    "    )\n",
    "\n",
    "    apply_custom_theme(fig)\n",
    "else:\n",
    "    print(\"No data available for the specified ransomware groups or incorrect data structure.\")\n"
   ]
  },
  {
   "cell_type": "code",
   "execution_count": null,
   "id": "5d74d23f",
   "metadata": {},
   "outputs": [],
   "source": []
  }
 ],
 "metadata": {
  "kernelspec": {
   "display_name": "Python 3 (ipykernel)",
   "language": "python",
   "name": "python3"
  },
  "language_info": {
   "codemirror_mode": {
    "name": "ipython",
    "version": 3
   },
   "file_extension": ".py",
   "mimetype": "text/x-python",
   "name": "python",
   "nbconvert_exporter": "python",
   "pygments_lexer": "ipython3",
   "version": "3.9.6"
  },
  "vscode": {
   "interpreter": {
    "hash": "aee8b7b246df8f9039afb4144a1f6fd8d2ca17a180786b69acc140d282b71a49"
   }
  }
 },
 "nbformat": 4,
 "nbformat_minor": 5
}
